{
 "cells": [
  {
   "cell_type": "markdown",
   "id": "6e0393df-e69a-4cfa-b1b3-96e0bb774191",
   "metadata": {},
   "source": [
    "---\n",
    "title: \"Assignment-1\"\n",
    "subtitle: \"CSCI- 5922 Dr. Ami Gates\"\n",
    "author: \"Venkata Harshith Nikhil Samudrala\"\n",
    "date: \"2024-09-16\"\n",
    "format:\n",
    "    docx:\n",
    "        echo: false\n",
    "        toc: true\n",
    "        toc-depth: 4       \n",
    "---"
   ]
  },
  {
   "cell_type": "markdown",
   "id": "7fd92ca1-292b-42d6-865e-f9ddbb35526f",
   "metadata": {},
   "source": [
    "**Q1) Create your own small, 3D, labeled dataset. Your labels should be binary. Save your dataset as A1_Data_YourName.csv. You will be submitting this raw dataset with your Assignment. A 3D dataset has three columns (variables/features). The label will be in the 4th column. Recall that labels are not part of the dataset but rather are the categories (also called classes or groups) that each data row (example, observation) is a member of.**"
   ]
  },
  {
   "cell_type": "code",
   "execution_count": 1,
   "id": "0bb30e60-c3f4-41a1-a90a-1d141b48ccb1",
   "metadata": {},
   "outputs": [],
   "source": [
    "#| echo: false\n",
    "import pandas as pd\n",
    "import numpy as np\n",
    "import matplotlib.pyplot as plt\n",
    "import seaborn as sns"
   ]
  },
  {
   "cell_type": "code",
   "execution_count": 2,
   "id": "d0aef23d-f020-455f-92bd-4e1fed370d53",
   "metadata": {},
   "outputs": [
    {
     "data": {
      "text/html": [
       "<div>\n",
       "<style scoped>\n",
       "    .dataframe tbody tr th:only-of-type {\n",
       "        vertical-align: middle;\n",
       "    }\n",
       "\n",
       "    .dataframe tbody tr th {\n",
       "        vertical-align: top;\n",
       "    }\n",
       "\n",
       "    .dataframe thead th {\n",
       "        text-align: right;\n",
       "    }\n",
       "</style>\n",
       "<table border=\"1\" class=\"dataframe\">\n",
       "  <thead>\n",
       "    <tr style=\"text-align: right;\">\n",
       "      <th></th>\n",
       "      <th>years_since</th>\n",
       "      <th>product_satisfaction</th>\n",
       "      <th>service_satisfaction</th>\n",
       "      <th>retained</th>\n",
       "    </tr>\n",
       "  </thead>\n",
       "  <tbody>\n",
       "    <tr>\n",
       "      <th>0</th>\n",
       "      <td>7</td>\n",
       "      <td>2</td>\n",
       "      <td>6</td>\n",
       "      <td>0</td>\n",
       "    </tr>\n",
       "    <tr>\n",
       "      <th>1</th>\n",
       "      <td>4</td>\n",
       "      <td>1</td>\n",
       "      <td>1</td>\n",
       "      <td>0</td>\n",
       "    </tr>\n",
       "    <tr>\n",
       "      <th>2</th>\n",
       "      <td>8</td>\n",
       "      <td>7</td>\n",
       "      <td>9</td>\n",
       "      <td>1</td>\n",
       "    </tr>\n",
       "    <tr>\n",
       "      <th>3</th>\n",
       "      <td>5</td>\n",
       "      <td>7</td>\n",
       "      <td>6</td>\n",
       "      <td>1</td>\n",
       "    </tr>\n",
       "    <tr>\n",
       "      <th>4</th>\n",
       "      <td>7</td>\n",
       "      <td>8</td>\n",
       "      <td>3</td>\n",
       "      <td>0</td>\n",
       "    </tr>\n",
       "    <tr>\n",
       "      <th>5</th>\n",
       "      <td>10</td>\n",
       "      <td>5</td>\n",
       "      <td>4</td>\n",
       "      <td>0</td>\n",
       "    </tr>\n",
       "    <tr>\n",
       "      <th>6</th>\n",
       "      <td>3</td>\n",
       "      <td>3</td>\n",
       "      <td>4</td>\n",
       "      <td>0</td>\n",
       "    </tr>\n",
       "  </tbody>\n",
       "</table>\n",
       "</div>"
      ],
      "text/plain": [
       "   years_since  product_satisfaction  service_satisfaction  retained\n",
       "0            7                     2                     6         0\n",
       "1            4                     1                     1         0\n",
       "2            8                     7                     9         1\n",
       "3            5                     7                     6         1\n",
       "4            7                     8                     3         0\n",
       "5           10                     5                     4         0\n",
       "6            3                     3                     4         0"
      ]
     },
     "execution_count": 2,
     "metadata": {},
     "output_type": "execute_result"
    }
   ],
   "source": [
    "#| echo: false\n",
    "data=pd.read_csv('A1_Data_VenkataHarshithNikhil.csv')\n",
    "data"
   ]
  },
  {
   "cell_type": "markdown",
   "id": "afbdf0d3-c28f-4537-bda9-c61b916f4a8d",
   "metadata": {},
   "source": [
    "The above is the dataset that shos the retention of customer based on the rating they gave on a certain product and the service provided by the company.\n",
    "\n",
    "The feautres are:\n",
    "- *years_since*: No.of Years since being a customer\n",
    "- *product_satisfaction*: Out of 10 Rating on the product\n",
    "- *service_satisfaction*: Out of 10 Rating on the service provided by the company\n",
    "- *retained*: This is the label of the dataset. 0 means the customer was not retained and 1 means that the customer stayed."
   ]
  },
  {
   "cell_type": "markdown",
   "id": "e5af8c33-8cbf-48d0-ba8b-ad13345fba9d",
   "metadata": {},
   "source": [
    "**2) (a) Write out a general linear equation (call it z) to represent a linear function that multiplies individual weights by each x value.** "
   ]
  },
  {
   "cell_type": "markdown",
   "id": "03dfaab6-58e5-4f2e-b563-eabacb82c4e8",
   "metadata": {},
   "source": [
    "For a 4D dataset, a general linear equation is:\n",
    "\n",
    "**$$ z = w_1 \\cdot x_1 + w_2 \\cdot x_2 + w_3 \\cdot x_3 + b $$**\n",
    "\n",
    "For the given data:\n",
    "$$ z= w_1 \\cdot years\\_since + w_2 \\cdot product\\_satisfaction + w_3 \\cdot service\\_satisfaction + b $$\n",
    "\n",
    "Here in the above equation:\n",
    "- *z* - This is the output of the linear expression (model).\n",
    "- *x1, x2, x3* are the features, year_since, product_satisfaction, service_satisfaction. \n",
    "- *b* - This is the bias that is applied to the expression which offsets the linear expression."
   ]
  },
  {
   "cell_type": "markdown",
   "id": "9caa3141-bf57-46e5-bb2e-2e8d2a7f2107",
   "metadata": {},
   "source": [
    "**2(b) Write your linear equation using vector format. \n",
    "Example:\n",
    "z = wTx + b**"
   ]
  },
  {
   "cell_type": "code",
   "execution_count": 3,
   "id": "4d932965-98f0-4408-a858-f75867540f44",
   "metadata": {},
   "outputs": [
    {
     "data": {
      "text/plain": [
       "array([[ 7,  2,  6],\n",
       "       [ 4,  1,  1],\n",
       "       [ 8,  7,  9],\n",
       "       [ 5,  7,  6],\n",
       "       [ 7,  8,  3],\n",
       "       [10,  5,  4],\n",
       "       [ 3,  3,  4]])"
      ]
     },
     "execution_count": 3,
     "metadata": {},
     "output_type": "execute_result"
    }
   ],
   "source": [
    "#| echo: false\n",
    "X_mat= data[['years_since', 'product_satisfaction', 'service_satisfaction']].to_numpy()\n",
    "X_mat"
   ]
  },
  {
   "cell_type": "markdown",
   "id": "b343a0df-c459-4b7a-a5ac-51b236dc8890",
   "metadata": {},
   "source": [
    "Consider all the weights to be 1 and the bias ‘b’ be equal to 0. Then the vector format would be,\n",
    "\n",
    "Z =\n",
    "[[ 7 2 6 ]\n",
    "\n",
    " [ 4 1 1 ]\n",
    " \n",
    " [ 8 7 9 ]\n",
    " \n",
    " [ 5 7 6 ]     X         [1, 1, 1]  + 0\n",
    "                         \n",
    " [ 7 8 3 ]\n",
    " \n",
    " [ 10 5 4]\n",
    " \n",
    " [ 3 3 4 ]]\n",
    "          (7x3)  \n",
    "\n",
    "Here, $$z = w^T \\cdot X+b$$\n",
    "\n",
    "Here, The matrix is X, the weights are all 1s with b=0."
   ]
  },
  {
   "cell_type": "markdown",
   "id": "c50df1b0-b61e-4c01-b129-af4a8de81f08",
   "metadata": {},
   "source": [
    "**2(c) What do the w values represent?**\n",
    "\n",
    "\n",
    "The values ‘w’ are the coefficients that are associated with the features labeled as X. These weights represent the significance of each feature. These weights are the parameters that are learned during the training to best fit the data. \n",
    "\n",
    "\n",
    "**2(d) What does the \"b\" represent?**\n",
    "The ‘b’ is called the bias or the intercept. This helps in fitting the model a bit better independent of the input features by helping in offsetting. This can be helpful in cases like when input alone is not able to predict the output."
   ]
  },
  {
   "cell_type": "markdown",
   "id": "9f5e2b7a-a260-4054-9fe4-9fbfe42faecc",
   "metadata": {},
   "source": [
    "**3) Use Python to read in your dataset and to plot the data (not the label) in 3D.**"
   ]
  },
  {
   "cell_type": "code",
   "execution_count": 4,
   "id": "ea5357db-1722-4811-aa02-e17cd2bad2a3",
   "metadata": {},
   "outputs": [
    {
     "data": {
      "image/png": "[encoded data removed]",
      "text/plain": [
       "<Figure size 640x480 with 1 Axes>"
      ]
     },
     "metadata": {},
     "output_type": "display_data"
    }
   ],
   "source": [
    "#| echo: false\n",
    "fig = plt.figure()\n",
    "ax = fig.add_subplot(111, projection='3d')\n",
    "\n",
    "colors = {0: 'r', 1: 'b'}\n",
    "ax.scatter(data['years_since'], data['product_satisfaction'], data['service_satisfaction'],\n",
    "           c=data['retained'].map(colors), label=data['retained'])\n",
    "\n",
    "ax.set_xlabel('Years Since')\n",
    "ax.set_ylabel('Product Satisfaction')\n",
    "ax.set_zlabel('Service Satisfaction')\n",
    "ax.set_title('Customer Retention Based on Satisfaction')\n",
    "retained_labels = [plt.Line2D([0], [0], marker='o', color='w', label='Retained', markerfacecolor='b', markersize=10),\n",
    "                   plt.Line2D([0], [0], marker='o', color='w', label='Not Retained', markerfacecolor='r', markersize=10)]\n",
    "ax.legend(handles=retained_labels)\n",
    "\n",
    "plt.show()"
   ]
  },
  {
   "cell_type": "markdown",
   "id": "b775cf3f-3528-4dda-a528-ff581b5bb0cf",
   "metadata": {},
   "source": [
    "**4) Does your dataset appear to have clusters or groups? Does it appear to be separable - especially with respect to your labeling?**\n",
    "\n",
    "Yes, The data looks linearly separable as observed from the 3D plot."
   ]
  },
  {
   "cell_type": "markdown",
   "id": "660544d7-7fb9-4212-9e0a-844744927592",
   "metadata": {},
   "source": [
    "**5) (a) Write out the Sigmoid function - include both ways to write it.** "
   ]
  },
  {
   "cell_type": "markdown",
   "id": "88a85ab1-7963-4d9e-b4ca-7a95dedb94c8",
   "metadata": {},
   "source": [
    "$$\n",
    "\\sigma = \\frac{1}{1+e^{-x}}\n",
    "$$\n",
    "\n",
    "This can also be written as:\n",
    "\n",
    "$$\n",
    "\\sigma = \\frac{e^{x}}{1+e^{x}}\n",
    "$$"
   ]
  },
  {
   "cell_type": "markdown",
   "id": "742d3297-cb59-46b9-97d0-da108658e3af",
   "metadata": {},
   "source": [
    "**(b) Prove that 1/ (1 + e^-x) is the same as e^x / ( 1 + e^x) are the same. Show all steps carefully.**"
   ]
  },
  {
   "cell_type": "markdown",
   "id": "35bc25b2-9af8-40cb-8f39-313437f75576",
   "metadata": {},
   "source": [
    "We know that, \n",
    "$$\\sigma = \\frac{1}{1+e^{-x}} \\quad \\& \\quad \\sigma = \\frac{e^x}{1+e^x}$$\n",
    "So to prove, \n",
    "$$\\frac{1}{1+e^{-x}} = \\frac{e^x}{1+e^x}$$\n",
    "Considering the Right Hand Side of the above Equation:\n",
    "Multiply e^-x on both numerator and denominator:\n",
    "$$= \\frac{e^x \\cdot e^{-x}}{(1+e^x)\\cdot e^{-x}} $$\n",
    "$$= \\frac{e^{x-x}}{e^{x-x} + e^{-x}} $$\n",
    "$$= \\frac{e^0}{e^0 + e^{-x}} $$\n",
    "$$= \\frac{1}{1+e^{-x}}$$"
   ]
  },
  {
   "cell_type": "markdown",
   "id": "90c3b69c-efaa-4baf-8efc-dc819932dc7f",
   "metadata": {},
   "source": [
    "**(c) Use Python to create a plot (from -100 to 100 with steps of 1) of the Sigmoid function. Include the plot here.**"
   ]
  },
  {
   "cell_type": "code",
   "execution_count": 5,
   "id": "351912de-453e-4671-b081-9525d44ecb73",
   "metadata": {},
   "outputs": [
    {
     "data": {
      "text/plain": [
       "<Figure size 800x600 with 0 Axes>"
      ]
     },
     "metadata": {},
     "output_type": "display_data"
    },
    {
     "data": {
      "image/png": "[encoded data removed]",
      "text/plain": [
       "<Figure size 800x600 with 2 Axes>"
      ]
     },
     "metadata": {},
     "output_type": "display_data"
    }
   ],
   "source": [
    "#| echo: false\n",
    "def sigmoid(x):\n",
    "    return 1 / (1 + np.exp(-x))\n",
    "\n",
    "x_val = np.arange(-100, 101, 1)\n",
    "y_val = sigmoid(x_val)\n",
    "plt.figure(figsize=(8,6))\n",
    "norm = plt.Normalize(vmin=0, vmax=1)\n",
    "cmap = plt.cm.viridis\n",
    "fig, ax = plt.subplots(figsize=(8, 6))\n",
    "for i in range(len(x_val)-1):\n",
    "    ax.plot(x_val[i:i+2], y_val[i:i+2], color=cmap(norm(y_val[i])))\n",
    "sm = plt.cm.ScalarMappable(cmap=cmap, norm=norm)\n",
    "fig.colorbar(sm, ax=ax, label=\"Sigmoid of X\")\n",
    "ax.set_title('Sigmoid Function with Range -100 to +100')\n",
    "ax.set_xlabel('X')\n",
    "ax.set_ylabel('Sigmoid of X')\n",
    "ax.grid(True)\n",
    "plt.show()"
   ]
  },
  {
   "cell_type": "markdown",
   "id": "0947fa16-4fd9-4b50-aac0-ffc85ad9ab20",
   "metadata": {},
   "source": [
    "**(d) Let  S(z) = 1 / (1 + e^-z) be the Sigmoid function. Prove that the first derivative of S(z) is S(z) X (1 - S(z)). \n",
    " Show every step carefully**"
   ]
  },
  {
   "cell_type": "markdown",
   "id": "6f0f9dab-50d9-4951-8400-06ba893fe872",
   "metadata": {},
   "source": [
    "Given:\n",
    "$$S(z) = \\frac{1}{1 + e^{-z}}$$\n",
    "Differentiate \\(S(z)\\) with respect to \\(z\\):\n",
    "$$\\frac{d(S(z))}{dz} = \\frac{d}{dz} \\left( \\frac{1}{1 + e^{-z}} \\right)$$\n",
    "Using the quotient rule:\n",
    "$$= \\frac{0 \\cdot (1 + e^{-z}) - 1 \\cdot (-e^{-z})}{(1 + e^{-z})^2}$$\n",
    "Simplify the expression:\n",
    "$$= \\frac{-(-e^{-z})}{(1 + e^{-z})^2}$$\n",
    "$$= \\frac{e^{-z}}{(1 + e^{-z})^2}$$\n",
    "Further simplification:\n",
    "$$= \\frac{e^{-z} + 1 - 1}{(1 + e^{-z})^2}$$\n",
    "$$= \\frac{(1+e^{-z})}{(1 + e^{-z})^2} - \\frac{1}{(1 + e^{-z})^2}$$\n",
    "$$= \\frac{1}{1 + e^{-z}} - \\frac{1}{(1 + e^{-z})^2}$$\n",
    "Factor the common term:\n",
    "$$= \\frac{1}{1 + e^{-z}} \\left( 1 - \\frac{1}{1 + e^{-z}} \\right)$$\n",
    "Therefore:\n",
    "$$\\frac{d(S(z))}{dz} = S(z) \\cdot (1 - S(z))$$"
   ]
  },
  {
   "cell_type": "markdown",
   "id": "53ea6d9f-bab7-428a-aa2c-18d39fb39119",
   "metadata": {},
   "source": [
    "**6) Using your dataset and an initial weight vector of all ones, an initial b value of 0, do the following. (Before you start, be sure to convert your labels to 0 and 1. For example, if my labels are POS and NEG, then I can change all POS to 1 and all NEG to 0. )**\n",
    "\n",
    "**(a) What is your weight vector? Show it here. (You can draw it if you wish)**"
   ]
  },
  {
   "cell_type": "markdown",
   "id": "cc1c7fb4-06c3-4d62-8919-32f27cf310c0",
   "metadata": {},
   "source": [
    "There are three input features, so, the the shape of the weight vector would be (1, 3) for the first input layer, considering that there are no other hidden layers and a single output layer. The vector of the weights is [1, 1, 1] and the bias b=0."
   ]
  },
  {
   "cell_type": "markdown",
   "id": "98d92bc9-d652-46bb-99c7-062fa8387e93",
   "metadata": {},
   "source": [
    "**b) Create a value for your weight vector  - use all ones and use \"0\" for your b. Calculate z for all of your data. Show every step and do this by hand.** "
   ]
  },
  {
   "cell_type": "markdown",
   "id": "6c80d007-0a0f-4e87-820a-d4744cf2692e",
   "metadata": {},
   "source": [
    "Given:\n",
    "\n",
    "$$\n",
    "X = \\begin{bmatrix} \n",
    "7 & 2 & 6 \\\\\n",
    "4 & 1 & 1 \\\\\n",
    "8 & 7 & 9 \\\\\n",
    "5 & 7 & 6 \\\\\n",
    "7 & 8 & 3 \\\\\n",
    "10 & 5 & 4 \\\\\n",
    "3 & 3 & 4 \n",
    "\\end{bmatrix}, \\quad w = \\begin{bmatrix} 1 & 1 & 1 \\end{bmatrix}, \\quad b = 0\n",
    "$$\n",
    "We need to compute:\n",
    "$$z = X \\cdot w^T + b$$\n",
    "\n",
    "Step: Min-Max Scaling Formula\n",
    "\n",
    "The Min-Max scaling formula for each element in the matrix is:\n",
    "\n",
    "\n",
    "$$X' = \\frac{X - X_{min}}{X_{max} - X_{min}}$$\n",
    "\n",
    "Here:\n",
    "- *X'* is the scaled feature,\n",
    "- *X*  is the original feature value,\n",
    "- *X\\_min* is the minimum value in the column,\n",
    "- *X\\_max* is the maximum value in the column.\n",
    "\n",
    "Step: Min and Max Values for Each Column of (X)\n",
    "\n",
    "For the matrix (X), we compute the minimum and maximum values for each column:\n",
    "\n",
    "- For the first column: $$( X_{min,1} = 3 ), ( X_{max,1} = 10 )$$\n",
    "- For the second column: $$( X_{min,2} = 1 ), ( X_{max,2} = 8 )$$\n",
    "- For the third column: $$( X_{min,3} = 1 ), ( X_{max,3} = 9 )$$\n",
    "\n",
    "\n",
    "Step: Scaled Matrix\n",
    "\n",
    "The scaled matrix ( X') is:\n",
    "\n",
    "$$ X' = \\begin{bmatrix} \n",
    "0.571 & 0.143 & 0.625 \\\\\n",
    "0.143 & 0 & 0 \\\\\n",
    "0.714 & 0.857 & 1 \\\\\n",
    "0.286 & 0.857 & 0.625 \\\\\n",
    "0.571 & 1 & 0.25 \\\\\n",
    "1 & 0.571 & 0.375 \\\\\n",
    "0 & 0.286 & 0.375 \n",
    "\\end{bmatrix} $$\n",
    "\n",
    "\n",
    "For the weight vector w:\n",
    "\n",
    "$$w^T = \\begin{bmatrix} 1 \\\\ 1 \\\\ 1 \\end{bmatrix}$$\n",
    "\n",
    "\n",
    "\n",
    "Step: Compute z\n",
    "\n",
    "$$z = \\begin{bmatrix} \n",
    "0.571 & 0.143 & 0.625 \\\\\n",
    "0.143 & 0 & 0 \\\\\n",
    "0.714 & 0.857 & 1 \\\\\n",
    "0.286 & 0.857 & 0.625 \\\\\n",
    "0.571 & 1 & 0.25 \\\\\n",
    "1 & 0.571 & 0.375 \\\\\n",
    "0 & 0.286 & 0.375 \n",
    "\\end{bmatrix} \\cdot \\begin{bmatrix} 1 \\\\ 1 \\\\ 1 \\end{bmatrix}\n",
    "$$\n",
    "\n",
    "Step: Summing the Products for Each Row\n",
    "\n",
    "\n",
    "$$\n",
    "z = \\begin{bmatrix}\n",
    "(0.571 + 0.143 + 0.625) \\\\\n",
    "(0.143 + 0 + 0) \\\\\n",
    "(0.714 + 0.857 + 1) \\\\\n",
    "(0.286 + 0.857 + 0.625) \\\\\n",
    "(0.571 + 1 + 0.25) \\\\\n",
    "(1 + 0.571 + 0.375) \\\\\n",
    "(0 + 0.286 + 0.375)\n",
    "\\end{bmatrix}\n",
    "$$\n",
    "\n",
    "Step 8: Final Computation\n",
    "\n",
    "$$\n",
    "z = \\begin{bmatrix} \n",
    "1.339 \\\\\n",
    "0.143 \\\\\n",
    "2.571 \\\\\n",
    "1.768 \\\\\n",
    "1.821 \\\\\n",
    "1.946 \\\\\n",
    "0.661 \n",
    "\\end{bmatrix}\n",
    "$$"
   ]
  },
  {
   "cell_type": "markdown",
   "id": "c0234a00-4a71-4ed2-9f3d-2f97a7b6282c",
   "metadata": {},
   "source": [
    "**c)Once you have your z values, apply the Sigmoid function to each and show your y^ = S(z) vector. Do this by hand and show every step.**"
   ]
  },
  {
   "cell_type": "markdown",
   "id": "7e094bd0-0366-476e-8c35-bb1df90b9dca",
   "metadata": {},
   "source": [
    "$$S(z) = \\frac{1}{1 + e^{-z}}$$\n",
    "\n",
    "Given:\n",
    "$$z = \\begin{bmatrix} 1.339 \\\\0.143 \\\\2.571 \\\\1.768 \\\\1.821 \\\\1.946 \\\\ 0.661 \\end{bmatrix}$$\n",
    "\n",
    "Step-by-step calculation:\n",
    "\n",
    "1. For (z_1 = 1.339):\n",
    "$$S(1.339) = \\frac{1}{1 + e^{-1.339}} \\approx 0.792$$\n",
    "\n",
    "2. For ( z_2 = 0.143 ):\n",
    "$$S(0.143) = \\frac{1}{1 + e^{-0.143}} \\approx 0.536$$\n",
    "\n",
    "3. For( z_3 = 2.571):\n",
    "$$S(2.571) = \\frac{1}{1 + e^{-2.571}} \\approx 0.929$$\n",
    "\n",
    "4. For ( z_4 = 1.768 ):\n",
    "$$S(1.768) = \\frac{1}{1 + e^{-1.768}} \\approx 0.855$$\n",
    "\n",
    "5. For (z_5 = 1.821):\n",
    "\n",
    "$$S(1.821) = \\frac{1}{1 + e^{-1.821}} \\approx 0.860$$\n",
    "\n",
    "6. For (z_6 = 1.946):\n",
    "$$S(1.946) = \\frac{1}{1 + e^{-1.946}} \\approx 0.875$$\n",
    "\n",
    "7. For (z_7 = 0.661):\n",
    "$$S(0.661) = \\frac{1}{1 + e^{-0.661}} \\approx 0.659$$\n",
    "\n",
    "Final Result:\n",
    "\n",
    "The values of (S(z)), rounded to 3 decimal places, are:\n",
    "\n",
    "$$S(z) = \\begin{bmatrix} 0.792 \\\\0.536 \\\\0.929 \\\\0.855 \\\\0.860 \\\\0.875 \\\\0.659 \\end{bmatrix}$$\n"
   ]
  },
  {
   "cell_type": "markdown",
   "id": "c6691c3d-baf4-4856-a468-a09c97c97592",
   "metadata": {},
   "source": [
    "**d) Are your current parameters (w and b) doing a good job predicting the correct labels? Show the correct label (y) and the predicted label (y^). How many are incorrect?  (Note that y^ is pronounced as y hat and is the value predicted by applying the Sigmoid to the linear equation). Show all of your work.** "
   ]
  },
  {
   "cell_type": "markdown",
   "id": "68afe11c-2f67-41ee-9beb-9fc6c46f670a",
   "metadata": {},
   "source": [
    "No, the current parameters (w = [1, 1, 1] and b=0) are doing a very poor job in predicting the values of y. Considering the threshold =0.5 too, \n",
    "the $$S(z) = \\hat{y} = \\begin{bmatrix} 0.792 \\\\0.536 \\\\0.929 \\\\0.855 \\\\0.860 \\\\0.875 \\\\0.659 \\end{bmatrix}$$\n",
    "and $$ y = \\begin{bmatrix}0 \\\\ 0 \\\\ 1 \\\\ 1 \\\\ 0 \\\\ 0 \\\\ 0\\end{bmatrix}$$\n",
    "\n",
    "So according to the S(z) we calculated,  $$ \\hat{y} = \\begin{bmatrix}1 \\\\ 1 \\\\1 \\\\ 1 \\\\ 1 \\\\1 \\\\1\\end{bmatrix}$$\n",
    "The accuracy is around 29% approximately. As only 2 predictions are correct."
   ]
  },
  {
   "cell_type": "markdown",
   "id": "eb047464-1377-49d3-a7d6-91d0928446e2",
   "metadata": {},
   "source": [
    "**7) (a) Write out the cross-entropy function for binary labels here.\n",
    "LCE (y, y^) = ??\n",
    "NOTE: Let's use the average Binary Cross Entropy function here - so you will have a 1/n term. As you have seen, there are a few representations of cross entropy for binary labels.** "
   ]
  },
  {
   "cell_type": "markdown",
   "id": "5e67a5c7-6d5b-43d8-ad89-952b23085d88",
   "metadata": {},
   "source": [
    "The function that is used to calculate the Loss pertaining to a single training example is:\n",
    "$$L_{CE}(\\hat{y}, y) =- [(y*\\log{\\hat{y}}) + (1-y)*(\\log{1-\\hat{y}})] $$\n",
    "The cost junction J(w,b) would be calculated as:\n",
    "$$J(w,b)= -\\frac{1}{m} \\cdot \\sum_{i=1}^{m} [(y_i*\\log{\\hat{y_i}}) + (1-y_i)*(\\log{1-\\hat{y_i}})] ) $$\n",
    "\n",
    "Here:\n",
    "- **m**: The no.of training records\n",
    "- **y\\_i**: ith true label\n",
    "- **y^\\_i**: ith predicted label\n",
    "\n",
    "Here, the Value of J(w,b) is calculated for the complete dataset. The Loss for every element is computed, summed and then based on the total no.of training examples it is averaged to get J."
   ]
  },
  {
   "cell_type": "markdown",
   "id": "d827f342-6b82-43f5-b5f4-5d83c886e03a",
   "metadata": {},
   "source": [
    "**(b) For all of your data rows, calculate the LCE. Show all of your work and do this by hand. Include ALL steps. Continue to use the weight vector of all ones and a b of 0.**"
   ]
  },
  {
   "cell_type": "markdown",
   "id": "eddc0f42-00fb-40c9-81b8-f09064f6a4c1",
   "metadata": {},
   "source": [
    "Given:\n",
    "$$y = \\begin{bmatrix} 0 \\\\0 \\\\1 \\\\1 \\\\0 \\\\0 \\\\ 0\\end{bmatrix} \\quad \n",
    "\\hat{y} = \\begin{bmatrix} 0.792 \\\\0.536 \\\\0.929 \\\\0.855 \\\\0.860 \\\\0.875 \\\\ 0.659\\end{bmatrix}$$\n",
    "\n",
    "Binary Cross Entropy Loss (LCE) formula:\n",
    "\n",
    "$$L_{CE}(y, \\hat{y}) = - \\left[ y \\cdot \\log(\\hat{y}) + (1 - y) \\cdot \\log(1 - \\hat{y}) \\right]$$\n",
    "\n",
    "Step-by-step calculation:\n",
    "\n",
    "1. **For the first element** $$(y_1 = 0, \\hat{y}_1 = 0.792)$$:\n",
    "$$L_{CE_1} = - \\left( 0 \\cdot \\log(0.792) + (1 - 0) \\cdot \\log(1 - 0.792) \\right) = - \\log(1 - 0.792) = - \\log(0.208) \\approx 1.571$$\n",
    "\n",
    "2. **For the second element** $$(y_2 = 0, \\hat{y}_2 = 0.536)$$:\n",
    "$$L_{CE_2} = - \\left( 0 \\cdot \\log(0.536) + (1 - 0) \\cdot \\log(1 - 0.536) \\right) = - \\log(1 - 0.536) = - \\log(0.464) \\approx 0.768$$\n",
    "\n",
    "3. **For the third element** $$(y_3 = 1, \\hat{y}_3 = 0.929)$$:\n",
    "$$L_{CE_3} = - \\left( 1 \\cdot \\log(0.929) + (1 - 1) \\cdot \\log(1 - 0.929) \\right) = - \\log(0.929) \\approx 0.074$$\n",
    "\n",
    "4. **For the fourth element** $$(y_4 = 1, \\hat{y}_4 = 0.855)$$:\n",
    "$$L_{CE_4} = - \\left( 1 \\cdot \\log(0.855) + (1 - 1) \\cdot \\log(1 - 0.855) \\right) = - \\log(0.855) \\approx 0.157$$\n",
    "\n",
    "5. **For the fifth element** $$(y_5 = 0, \\hat{y}_5 = 0.860)$$:\n",
    "$$L_{CE_5} = - \\left( 0 \\cdot \\log(0.860) + (1 - 0) \\cdot \\log(1 - 0.860) \\right) = - \\log(1 - 0.860) = - \\log(0.140) \\approx 1.966$$\n",
    "\n",
    "6. **For the sixth element** $$(y_6 = 0, \\hat{y}_6 = 0.875)$$:\n",
    "$$L_{CE_6} = - \\left( 0 \\cdot \\log(0.875) + (1 - 0) \\cdot \\log(1 - 0.875) \\right) = - \\log(1 - 0.875) = - \\log(0.125) \\approx 2.079$$\n",
    "\n",
    "7. **For the seventh element** $$(y_7 = 0, \\hat{y}_7 = 0.659)$$:\n",
    "$$L_{CE_7} = - \\left( 0 \\cdot \\log(0.659) + (1 - 0) \\cdot \\log(1 - 0.659) \\right) = - \\log(1 - 0.659) = - \\log(0.341) \\approx 1.076$$\n",
    "\n",
    "Calculate the total loss:\n",
    "\n",
    "The total loss is the sum of all individual losses:\n",
    "$$L_{total} = 1.571 + 0.768 + 0.074 + 0.157 + 1.966 + 2.079 + 1.076 = 7.691$$\n",
    "\n",
    "Since there are 7 elements, the average loss is:\n",
    "$$J(w, b) = \\frac{L_{total}}{7} = \\frac{7.691}{7} \\approx 1.099$$\n",
    "\n",
    "$$J(w, b) \\approx 1.099$$"
   ]
  },
  {
   "cell_type": "markdown",
   "id": "1d8176d5-8b2d-4485-ab29-0e1abe7b341f",
   "metadata": {},
   "source": [
    "**c) Using your result from (b), what would you say your current \"Loss\" or \"error\" is? How might you improve/reduce this? What does it mean if the LCE is 0?**\n",
    "\n",
    "The J(w,b) = 1.099 which is a bad indicator, meaning that the weights used were not a good fit for the model. This needs to be improved and the loss must be approacing 0 to coclude that a given set of parameters are best fit for the model. The model has the best parameters if the Loss or error is 0. For finding the optimum parameters the gradient descent function must be used to iteratively find the parameters that minimize the error or loss."
   ]
  },
  {
   "cell_type": "markdown",
   "id": "f9347bf4-aa80-4f58-a70e-1ca3c6089ada",
   "metadata": {},
   "source": [
    "**8) To reduce the error (or loss), we need to adjust (change) the parameters. Recall that in this case, our parameters are w and b. If we change the values of w and/or b, this will result in a change in the LCE and in the overall difference between y^ and y. \n",
    "Do this by hand. Change your w to values other than 1. Leave b as 0. Recalculate LCE. \n",
    "Show every step and all of your work. Do this by hand. Your w values are invented by you.**"
   ]
  },
  {
   "cell_type": "markdown",
   "id": "f21175ca-4915-4e9e-a650-e7a90eb363a1",
   "metadata": {},
   "source": [
    "The new values to be considered $$w = \\begin{bmatrix} 0.2 & 0.3 & 0.6 \\end{bmatrix}, \\quad b = 0$$\n",
    "\n",
    "The scaled matrix $$ X' = \\begin{bmatrix} \n",
    "0.571 & 0.143 & 0.625 \\\\\n",
    "0.143 & 0 & 0 \\\\\n",
    "0.714 & 0.857 & 1 \\\\\n",
    "0.286 & 0.857 & 0.625 \\\\\n",
    "0.571 & 1 & 0.25 \\\\\n",
    "1 & 0.571 & 0.375 \\\\\n",
    "0 & 0.286 & 0.375 \n",
    "\\end{bmatrix} $$\n",
    "\n",
    "Compute (z)\n",
    "\n",
    "Step: Compute (z)\n",
    "\n",
    "We compute $$z = w^T X' + b$$\n",
    "\n",
    "For the weight vector w:\n",
    "\n",
    "$$w^T = \\begin{bmatrix} 0.2 \\\\ 0.3 \\\\ 0.6 \\end{bmatrix}$$\n",
    "\n",
    "$$z = \\begin{bmatrix} \n",
    "0.571 & 0.143 & 0.625 \\\\\n",
    "0.143 & 0 & 0 \\\\\n",
    "0.714 & 0.857 & 1 \\\\\n",
    "0.286 & 0.857 & 0.625 \\\\\n",
    "0.571 & 1 & 0.25 \\\\\n",
    "1 & 0.571 & 0.375 \\\\\n",
    "0 & 0.286 & 0.375 \\end{bmatrix} \\cdot \\begin{bmatrix} 0.2 \\\\ 0.3 \\\\ 0.6 \\end{bmatrix}$$\n",
    "$$z = \\begin{bmatrix}0.5321 \\\\0.0286 \\\\0.9999 \\\\0.6893 \\\\0.5642 \\\\0.5963 \\\\0.3108\\end{bmatrix}$$"
   ]
  },
  {
   "cell_type": "markdown",
   "id": "cde02e33-bfbb-47f8-856f-3b0dbda22d0b",
   "metadata": {},
   "source": [
    "Apply the sigmoid function:\n",
    "$$S(z) = \\frac{1}{1 + e^{-z}}$$\n",
    "\n",
    "1. For z_1 = 0.5321:\n",
    "$$S(z_1) = \\frac{1}{1 + e^{-0.5321}} = \\frac{1}{1 + e^{-0.5321}} \\approx \\frac{1}{1 + 0.587} \\approx \\frac{1}{1.587} \\approx 0.630$$\n",
    "\n",
    "2. For z_2 = 0.0286:\n",
    "$$S(z_2) = \\frac{1}{1 + e^{-0.0286}} = \\frac{1}{1 + e^{-0.0286}} \\approx \\frac{1}{1 + 0.972} \\approx \\frac{1}{1.972} \\approx 0.507$$\n",
    "\n",
    "3. For z_3 = 0.9999:\n",
    "$$S(z_3) = \\frac{1}{1 + e^{-0.9999}} = \\frac{1}{1 + e^{-0.9999}} \\approx \\frac{1}{1 + 0.368} \\approx \\frac{1}{1.368} \\approx 0.731$$\n",
    "\n",
    "4. For  z_4 = 0.6893:\n",
    "$$S(z_4) = \\frac{1}{1 + e^{-0.6893}} = \\frac{1}{1 + e^{-0.6893}} \\approx \\frac{1}{1 + 0.502} \\approx \\frac{1}{1.502} \\approx 0.666$$\n",
    "\n",
    "5. For z_5 = 0.5642:\n",
    "$$S(z_5) = \\frac{1}{1 + e^{-0.5642}} = \\frac{1}{1 + e^{-0.5642}} \\approx \\frac{1}{1 + 0.569} \\approx \\frac{1}{1.569} \\approx 0.637$$\n",
    "\n",
    "6. For  z_6 = 0.5963:\n",
    "$$S(z_6) = \\frac{1}{1 + e^{-0.5963}} = \\frac{1}{1 + e^{-0.5963}} \\approx \\frac{1}{1 + 0.551} \\approx \\frac{1}{1.551} \\approx 0.644$$\n",
    "\n",
    "7. For  z_7 = 0.3108:\n",
    "$$S(z_7) = \\frac{1}{1 + e^{-0.3108}} = \\frac{1}{1 + e^{-0.3108}} \\approx \\frac{1}{1 + 0.733} \\approx \\frac{1}{1.733} \\approx 0.578$$\n",
    "\n",
    "$$S(z) = \\begin{bmatrix}0.630 \\\\0.507 \\\\0.731 \\\\0.666 \\\\0.637 \\\\0.644 \\\\0.578\\end{bmatrix}$$"
   ]
  },
  {
   "cell_type": "markdown",
   "id": "d60fa252-34d0-48c0-8df2-e6d65d6f1a75",
   "metadata": {},
   "source": [
    "Compute Loss\n",
    "\n",
    "The actual labels (y) are:\n",
    "$$y = \\begin{bmatrix} 0 \\\\0 \\\\1 \\\\1 \\\\0 \\\\0 \\\\0\\end{bmatrix}$$\n",
    "\n",
    "\n",
    "$$L_{CE}(y, \\hat{y}) = - \\left[ y \\cdot \\log(\\hat{y}) + (1 - y) \\cdot \\log(1 - \\hat{y}) \\right]$$\n",
    "\n",
    "For each element,the loss:\n",
    "\n",
    "$$1. L_{CE_1} = - (0 \\cdot \\log(0.630) + (1 - 0) \\cdot \\log(1 - 0.630)) = - \\log(0.370) \\approx 0.995$$\n",
    "\n",
    "$$2. L_{CE_2} = - \\log(1 - 0.507) = - \\log(0.493) \\approx 0.707$$\n",
    "\n",
    "$$3. L_{CE_3} = - \\log(0.731) \\approx 0.314$$\n",
    "\n",
    "$$4. L_{CE_4} = - \\log(0.666) \\approx 0.406$$\n",
    "\n",
    "$$5. L_{CE_5} = - \\log(1 - 0.637) = - \\log(0.363) \\approx 1.014$$\n",
    "\n",
    "$$6. L_{CE_6} = - \\log(1 - 0.644) = - \\log(0.356) \\approx 1.032$$\n",
    "\n",
    "$$7. L_{CE_7} = - \\log(1 - 0.578) = - \\log(0.422) \\approx 0.863$$\n",
    "\n",
    "The total loss is:\n",
    "$$L_{total} = 0.995 + 0.707 + 0.314 + 0.406 + 1.014 + 1.032 + 0.863 = 5.331$$\n",
    "\n",
    "The average loss is:\n",
    "$$J(w, b) = \\frac{L_{total}}{7} = \\frac{5.331}{7} \\approx 0.762$$\n",
    "\n",
    "$$J(w, b) \\approx 0.762$$"
   ]
  },
  {
   "cell_type": "markdown",
   "id": "7891e396-2b1b-4072-85d3-a9ddcd6136c7",
   "metadata": {},
   "source": [
    "The new weights had only a loss of 0.762. Comparativlely these new parameters fit better to the model."
   ]
  },
  {
   "cell_type": "markdown",
   "id": "1c5ea5ba-c6c2-40ae-8854-b5604a9efb17",
   "metadata": {},
   "source": [
    "**9) To make changes to parameters, such as w and b so that we get closer and closer to the minimum (in other words to optimize the values of w and b) we need to take the partial derivatives of LCE with respect to both w and b. The Jacobian is a vector or matrix that contains all partial derivatives of a function with respect to all possible parameters. Here, our Jacobian has two values, one for dLCE/dw and one for dLCE/db, where \"d\" here is partial derivative.**"
   ]
  },
  {
   "cell_type": "markdown",
   "id": "5afd4fbb-3b9a-4114-b78f-007c996a2b39",
   "metadata": {},
   "source": [
    "**(a) Find the partial derivative of the LCE with respect to w. Show all steps and work and use the chain rule. HINT (chain rule): dLCE/dw = dLCE/dy^ * dy^/dz * dz/dw\n",
    "HINT2: The two derivatives are:\n",
    "dLCE/dw = 1/n (y^-y)Tx\n",
    "dLCE/db = 1/n (y^-y)\n",
    "Note: Here again, we see the 1/n term because we are using the average binary cross entropy loss.**"
   ]
  },
  {
   "cell_type": "markdown",
   "id": "b8abdfe9-ca51-49f0-bb61-23efdb24e0c8",
   "metadata": {},
   "source": [
    "LCE (Binary Cross Entropy Loss) is given by:\n",
    "\n",
    "$$L_{CE} = - \\frac{1}{m} \\sum_{1}^{m} [y \\cdot \\log(\\hat{y}) + (1 - y) \\cdot \\log(1 - \\hat{y})]$$\n",
    "\n",
    "Where:\n",
    "$$\\hat{y} = S(z) = \\frac{1}{1 + e^{-z}}$$\n",
    "and,\n",
    "$$z = w_1 x_1 + w_2 x_2 + \\dots + w_n x_n + b$$\n",
    "\n",
    "Derivation  of $$\\frac{\\partial L_{CE}}{\\partial \\hat{y}}$$\n",
    "\n",
    "$$\\frac{\\partial L_{CE}}{\\partial \\hat{y}} = \\frac{\\partial}{\\partial \\hat{y}} \\left( - \\frac{1}{m} \\sum_m [y \\cdot \\log(\\hat{y}) + (1 - y) \\cdot \\log(1 - \\hat{y})] \\right)$$\n",
    "\n",
    "$$= - \\frac{1}{m} \\sum_m \\left[ \\frac{y}{\\hat{y}} - \\frac{(1 - y)}{(1 - \\hat{y})} \\right]$$\n",
    "\n",
    "$$= - \\frac{1}{m} \\sum_m \\left[ \\frac{y - \\hat{y}}{\\hat{y}(1 - \\hat{y})} \\right] \\quad \\text{--- (1)}$$\n",
    "\n",
    "Derivation of $$\\frac{\\partial \\hat{y}}{\\partial z}$$\n",
    "\n",
    "$$\\frac{\\partial \\hat{y}}{\\partial z} = \\hat{y} \\cdot (1 - \\hat{y}) \\quad \\text{since we know that } S(z) = \\hat{y} = S(z)(1 - S(z))\\quad \\text{--- (2)}$$\n",
    "\n",
    "Derivation of $$\\frac{\\partial z}{\\partial w}$$\n",
    "$$\\frac{\\partial z}{\\partial w} = \\frac{\\partial}{\\partial w} \\left( X w^T + b \\right) = X \\quad \\text{--- (3)}$$\n",
    "\n",
    "Now,\n",
    "$$\\frac{\\partial L_{CE}}{\\partial w} = \\frac{\\partial L_{CE}}{\\partial \\hat{y}} \\cdot \\frac{\\partial \\hat{y}}{\\partial z} \\cdot \\frac{\\partial z}{\\partial w}$$\n",
    "\n",
    "From (1),(2),(3):\n",
    "$$\\frac{\\partial L_{CE}}{\\partial w} = - \\frac{1}{m} \\sum_m \\left[ \\frac{y - \\hat{y}}{\\hat{y}(1 - \\hat{y})} \\right] \\cdot \\hat{y}(1 - \\hat{y}) \\cdot X$$\n",
    "\n",
    "Simplify:\n",
    "\n",
    "$$= - \\frac{1}{m} \\sum_m [(y - \\hat{y}) \\cdot X]$$\n",
    "\n",
    "$$= \\frac{1}{m} \\sum_m [(\\hat{y} - y) \\cdot X]$$\n",
    "\n",
    "Thus:\n",
    "\n",
    "$$\\frac{\\partial L_{CE}}{\\partial w} = \\frac{1}{m} X^T (\\hat{y} - y)$$\n",
    "\n",
    "Derivation of $$\\frac{\\partial L_{CE}}{\\partial b}$$\n",
    "$$\\frac{\\partial L_{CE}}{\\partial b} = \\frac{\\partial L_{CE}}{\\partial \\hat{y}} \\cdot \\frac{\\partial \\hat{y}}{\\partial z} \\cdot \\frac{\\partial z}{\\partial b}$$\n",
    "\n",
    "We already calculated  $$\\frac{\\partial L_{CE}}{\\partial \\hat{y}} \\quad \\frac{\\partial \\hat{y}}{\\partial z}$$\n",
    "\n",
    "Now,\n",
    "$$\\frac{\\partial z}{\\partial b} = 1\\quad \\text{--- (4)}$$\n",
    "Therefore,\n",
    "$$\\frac{\\partial L_{CE}}{\\partial b} = \\frac{1}{m} \\sum_m (y - \\hat{y})$$\n",
    "In matrix form:\n",
    "$$\\frac{\\partial L_{CE}}{\\partial b} = \\frac{1}{m} (y - \\hat{y})$$"
   ]
  },
  {
   "cell_type": "markdown",
   "id": "7ac4614f-914f-455d-b023-3172cffff00f",
   "metadata": {},
   "source": [
    "**(b) In words, how would you describe the derivatives here? What do that \"mean\"? (3 - 4 sentences is enough)**"
   ]
  },
  {
   "cell_type": "markdown",
   "id": "6f70c888-a10d-4454-9010-836a362ec16d",
   "metadata": {},
   "source": [
    "The above process is done to find out how to find the better parameters that best fit the model. The terms dLCE/dw is used to compute the adjustments of weights to incorporate in the weight terms currently being used. The main components for this the difference between the original labels y and predicted labels y^. and the input values X. If the diiference is huge then big adjustments are to be made to the values of w.\n",
    "\n",
    "In the case of dLCE/db, the bias term. The required changes can be determined by the difference between the original labels y and predicted y^. The input values do not have a significance here. The huge difference in y-y^ cause big adjustemnts to the value of b."
   ]
  },
  {
   "cell_type": "markdown",
   "id": "336f46ef-22c4-4e2e-84ff-367f9b29094b",
   "metadata": {},
   "source": [
    "**10)a) Using dLCE/dw  = 1/n (y^ - y)Tx    and using the original w  of all ones, calculate and update w. Show all of the work and do this by hand vector style. (For now we will assume that the learning rate, LR, is 1). \n",
    "NOTE: Notice here that the formulas for the dL/dw and dL/db use xT and my formulas above use (y^ - y)Tx. Both are the same. The transpose location depends on the shape of your data. Be sure that you know the shape of your data.**"
   ]
  },
  {
   "cell_type": "markdown",
   "id": "7eecf34c-b266-41da-a72e-cdcf8c980295",
   "metadata": {},
   "source": [
    "We know that:\n",
    "\n",
    "$$\\frac{\\partial L_{CE}}{\\partial w} = \\frac{1}{m} * (\\hat{y} - y)^T \\cdot X$$\n",
    "and the values given are:\n",
    "$$m=7$$\n",
    "\n",
    "The scaled matrix ( X') is:\n",
    "\n",
    "$$ X' = \\begin{bmatrix} \n",
    "0.571 & 0.143 & 0.625 \\\\\n",
    "0.143 & 0 & 0 \\\\\n",
    "0.714 & 0.857 & 1 \\\\\n",
    "0.286 & 0.857 & 0.625 \\\\\n",
    "0.571 & 1 & 0.25 \\\\\n",
    "1 & 0.571 & 0.375 \\\\\n",
    "0 & 0.286 & 0.375 \\end{bmatrix}$$ \n",
    "\n",
    "The weights w:\n",
    "$$w = \\begin{bmatrix} 1 & 1 & 1 \\end{bmatrix}$$\n",
    "\n",
    "The y and y^:\n",
    "\n",
    "$$y = \\begin{bmatrix} 0 \\\\0 \\\\1 \\\\1 \\\\0 \\\\0 \\\\ 0\\end{bmatrix} \\quad \n",
    "\\hat{y} = \\begin{bmatrix} 0.792 \\\\0.536 \\\\0.929 \\\\0.855 \\\\0.860 \\\\0.875 \\\\ 0.659\\end{bmatrix}$$\n",
    "\n",
    "The Learning Rate:\n",
    "$$\\alpha=1$$\n",
    "\n",
    "The new updated weights would be:\n",
    "\n",
    "$$New Weights = w_1 = w - \\alpha \\cdot \\frac{\\partial L_{CE}}{\\partial w}$$"
   ]
  },
  {
   "cell_type": "markdown",
   "id": "248e50e5-177a-465c-ae0b-39ec04714b19",
   "metadata": {},
   "source": [
    "\n",
    "$$\n",
    "\\hat{y} - y = \n",
    "\\begin{bmatrix} \n",
    "0.792 \\\\\n",
    "0.536 \\\\\n",
    "-0.071 \\\\\n",
    "-0.145 \\\\\n",
    "0.860 \\\\\n",
    "0.875 \\\\\n",
    "0.659\n",
    "\\end{bmatrix}\n",
    "$$\n",
    "$$(\\hat{y} - y)^T = [0.792, 0.536, -0.071, -0.145, 0.860, 0.875, 0.659]$$\n",
    "Performing the multiplication:\n",
    "$$\n",
    "(\\hat{y} - y)^T \\cdot X' = \n",
    "\\begin{bmatrix} \n",
    "0.792 & 0.536 & -0.071 & -0.145 & 0.860 & 0.875 & 0.659\n",
    "\\end{bmatrix}\n",
    "\\cdot\n",
    "\\begin{bmatrix} \n",
    "0.571 & 0.143 & 0.625 \\\\\n",
    "0.143 & 0 & 0 \\\\\n",
    "0.714 & 0.857 & 1 \\\\\n",
    "0.286 & 0.857 & 0.625 \\\\\n",
    "0.571 & 1 & 0.25 \\\\\n",
    "1 & 0.571 & 0.375\n",
    "\\end{bmatrix}\n",
    "$$\n",
    "$$\\frac{\\partial L_{CE}}{\\partial w} = \\begin{bmatrix} 0.25753943 & 0.21089186 & 0.16051786\\end{bmatrix}$$\n",
    "Now, apply the weight update formula:\n",
    "$$NewWeights = w = w - \\alpha \\cdot \\frac{\\partial L_{CE}}{\\partial w}$$\n",
    "$$NewWeights = w = \\begin{bmatrix} 1 & 1 & 1 \\end{bmatrix} - 1 \\cdot \\frac{\\partial L_{CE}}{\\partial w}$$\n",
    "$$w = \\begin{bmatrix} 1 & 1 & 1 \\end{bmatrix} - \\begin{bmatrix} 0.25753943 & 0.21089186 & 0.16051786\\end{bmatrix} $$\n",
    "\n",
    "The updated weights will be computed as:\n",
    "$$w = \\begin{bmatrix}0.74246057 & 0.78910814 & 0.83948214\\end{bmatrix}$$"
   ]
  },
  {
   "cell_type": "markdown",
   "id": "acf96d90-2496-49c2-8fe8-2c35d536014a",
   "metadata": {},
   "source": [
    "**10)b)Once you update w  and keeping b as 0, recalculate LCE and compare your new LCE to the original LCE. Did it reduce? Show all work and steps and do this by hand.**"
   ]
  },
  {
   "cell_type": "markdown",
   "id": "aa15fe4d-df37-47d4-a49e-f2ec06f998ea",
   "metadata": {},
   "source": [
    "The new values to be considered $$w = \\begin{bmatrix}0.74246057 & 0.78910814 & 0.83948214\\end{bmatrix}, \\quad b = 0$$\n",
    "\n",
    "The scaled matrix $$ X' = \\begin{bmatrix} \n",
    "0.571 & 0.143 & 0.625 \\\\\n",
    "0.143 & 0 & 0 \\\\\n",
    "0.714 & 0.857 & 1 \\\\\n",
    "0.286 & 0.857 & 0.625 \\\\\n",
    "0.571 & 1 & 0.25 \\\\\n",
    "1 & 0.571 & 0.375 \\\\\n",
    "0 & 0.286 & 0.375 \n",
    "\\end{bmatrix} $$\n",
    "\n",
    "Compute (z)\n",
    "\n",
    "Step: Compute (z)\n",
    "\n",
    "We compute $$z = w^T X' + b$$"
   ]
  },
  {
   "cell_type": "markdown",
   "id": "234e7a87-70c6-4da0-869e-adec1de51f62",
   "metadata": {},
   "source": [
    "$$z = \\begin{bmatrix} \n",
    "0.571 & 0.143 & 0.625 \\\\\n",
    "0.143 & 0 & 0 \\\\\n",
    "0.714 & 0.857 & 1 \\\\\n",
    "0.286 & 0.857 & 0.625 \\\\\n",
    "0.571 & 1 & 0.25 \\\\\n",
    "1 & 0.571 & 0.375 \\\\\n",
    "0 & 0.286 & 0.375 \\end{bmatrix} \\cdot \\begin{bmatrix}0.74246057 & 0.78910814 & 0.83948214\\end{bmatrix}$$\n",
    "\n",
    "The computed \\( z \\) vector is:\n",
    "\n",
    "$$\n",
    "z = \\begin{bmatrix} \n",
    "1.06179 \\\\\n",
    "0.10617 \\\\\n",
    "2.04484 \\\\\n",
    "1.41360 \\\\\n",
    "1.42325 \\\\\n",
    "1.50760 \\\\\n",
    "0.53997\n",
    "\\end{bmatrix}\n",
    "$$"
   ]
  },
  {
   "cell_type": "markdown",
   "id": "5586be67-ed90-4c96-9b14-29ff86dfd8cd",
   "metadata": {},
   "source": [
    "$$S(z) = \\frac{1}{1 + e^{-z}}$$\n",
    "\n",
    "$$\n",
    "z = \\begin{bmatrix} \n",
    "1.06179 \\\\\n",
    "0.10617 \\\\\n",
    "2.04484 \\\\\n",
    "1.41360 \\\\\n",
    "1.42325 \\\\\n",
    "1.50760 \\\\\n",
    "0.53997\n",
    "\\end{bmatrix}\n",
    "$$\n",
    "\n",
    "For ( z_1 = 1.06179 ):\n",
    "\n",
    "$$S(z_1) = \\frac{1}{1 + e^{-1.06179}} = \\frac{1}{1 + e^{-1.06179}} \\approx \\frac{1}{1 + 0.346} = \\frac{1}{1.346} \\approx 0.743$$\n",
    "\n",
    "\n",
    "For \\( z_2 = 0.10617 \\):\n",
    "\n",
    "$$S(z_2) = \\frac{1}{1 + e^{-0.10617}} = \\frac{1}{1 + e^{-0.10617}} \\approx \\frac{1}{1 + 0.899} = \\frac{1}{1.899} \\approx 0.526$$\n",
    "\n",
    "\n",
    "\n",
    "For ( z_3 = 2.04484 ):\n",
    "$$S(z_3) = \\frac{1}{1 + e^{-2.04484}} = \\frac{1}{1 + e^{-2.04484}} \\approx \\frac{1}{1 + 0.129} = \\frac{1}{1.129} \\approx 0.886$$\n",
    "\n",
    "\n",
    "\n",
    "For ( z_4 = 1.41360):\n",
    "\n",
    "$$S(z_4) = \\frac{1}{1 + e^{-1.41360}} = \\frac{1}{1 + e^{-1.41360}} \\approx \\frac{1}{1 + 0.243} = \\frac{1}{1.243} \\approx 0.805$$\n",
    "\n",
    "\n",
    "\n",
    "For ( z_5 = 1.42325 ):\n",
    "\n",
    "$$S(z_5) = \\frac{1}{1 + e^{-1.42325}} = \\frac{1}{1 + e^{-1.42325}} \\approx \\frac{1}{1 + 0.241} = \\frac{1}{1.241} \\approx 0.806$$\n",
    "\n",
    "\n",
    "For ( z_6 = 1.50760 ):\n",
    "\n",
    "$$S(z_6) = \\frac{1}{1 + e^{-1.50760}} = \\frac{1}{1 + e^{-1.50760}} \\approx \\frac{1}{1 + 0.221} = \\frac{1}{1.221} \\approx 0.820$$\n",
    "\n",
    "\n",
    "For ( z_7 = 0.53997 ):\n",
    "\n",
    "$$S(z_7) = \\frac{1}{1 + e^{-0.53997}} = \\frac{1}{1 + e^{-0.53997}} \\approx \\frac{1}{1 + 0.583} = \\frac{1}{1.583} \\approx 0.632$$\n",
    "\n",
    "$$\n",
    "S(z) = \\begin{bmatrix} \n",
    "0.743 \\\\\n",
    "0.526 \\\\\n",
    "0.886 \\\\\n",
    "0.805 \\\\\n",
    "0.806 \\\\\n",
    "0.820 \\\\\n",
    "0.632\n",
    "\\end{bmatrix}\n",
    "$$"
   ]
  },
  {
   "cell_type": "markdown",
   "id": "bbab1f17-a9e4-4141-8fb8-31478111194f",
   "metadata": {},
   "source": [
    "$$L_{CE}(\\hat{y}, y) = - \\left[ y \\cdot \\log(\\hat{y}) + (1 - y) \\cdot \\log(1 - \\hat{y}) \\right]$$\n",
    "\n",
    "\n",
    "$$\n",
    "LCE_1 = - \\left[ 0 \\cdot \\log(0.743) + (1 - 0) \\cdot \\log(1 - 0.743) \\right]\n",
    "$$\n",
    "\n",
    "$$\n",
    "LCE_1 = - \\log(1 - 0.743) = - \\log(0.257) \\approx 1.357\n",
    "$$\n",
    "\n",
    "\n",
    "$$\n",
    "LCE_2 = - \\left[ 0 \\cdot \\log(0.526) + (1 - 0) \\cdot \\log(1 - 0.526) \\right]\n",
    "$$\n",
    "\n",
    "$$\n",
    "LCE_2 = - \\log(1 - 0.526) = - \\log(0.474) \\approx 0.747\n",
    "$$\n",
    "\n",
    "\n",
    "\n",
    "\n",
    "$$\n",
    "LCE_3 = - \\left[ 1 \\cdot \\log(0.886) + (1 - 1) \\cdot \\log(1 - 0.886) \\right]\n",
    "$$\n",
    "\n",
    "$$\n",
    "LCE_3 = - \\log(0.886) \\approx 0.121\n",
    "$$\n",
    "\n",
    "\n",
    "$$\n",
    "LCE_4 = - \\left[ 1 \\cdot \\log(0.805) + (1 - 1) \\cdot \\log(1 - 0.805) \\right]\n",
    "$$\n",
    "\n",
    "$$\n",
    "LCE_4 = - \\log(0.805) \\approx 0.217\n",
    "$$\n",
    "\n",
    "\n",
    "$$\n",
    "LCE_5 = - \\left[ 0 \\cdot \\log(0.806) + (1 - 0) \\cdot \\log(1 - 0.806) \\right]\n",
    "$$\n",
    "\n",
    "$$\n",
    "LCE_5 = - \\log(1 - 0.806) = - \\log(0.194) \\approx 1.637\n",
    "$$\n",
    "\n",
    "\n",
    "$$\n",
    "LCE_6 = - \\left[ 0 \\cdot \\log(0.820) + (1 - 0) \\cdot \\log(1 - 0.820) \\right]\n",
    "$$\n",
    "\n",
    "$$\n",
    "LCE_6 = - \\log(1 - 0.820) = - \\log(0.180) \\approx 1.714\n",
    "$$\n",
    "\n",
    "\n",
    "\n",
    "\n",
    "$$\n",
    "LCE_7 = - \\left[ 0 \\cdot \\log(0.632) + (1 - 0) \\cdot \\log(1 - 0.632) \\right]\n",
    "$$\n",
    "\n",
    "$$\n",
    "LCE_7 = - \\log(1 - 0.632) = - \\log(0.368) \\approx 0.999\n",
    "$$\n",
    "\n",
    "\n",
    "\n",
    "$$\n",
    "L_{total} = \\frac{LCE_1 + LCE_2 + LCE_3 + LCE_4 + LCE_5 + LCE_6 + LCE_7}{7}\n",
    "$$\n",
    "\n",
    "$$\n",
    "L_{total} = \\frac{1.357 + 0.747 + 0.121 + 0.217 + 1.637 + 1.714 + 0.999}{7} = \\frac{6.792}{7} \\approx 0.970\n",
    "$$\n",
    "\n",
    "Thus, the total cost (average loss) is approximately:\n",
    "\n",
    "$$\n",
    "L_{total} \\approx 0.970\n",
    "$$\n"
   ]
  },
  {
   "cell_type": "markdown",
   "id": "a33b9622-e113-40b5-9108-939f3d77c9a9",
   "metadata": {},
   "source": [
    "The loss obtained here is after one iteration in the gradient descent step. It is comparatively better than the initial weights."
   ]
  },
  {
   "cell_type": "markdown",
   "id": "1e667179-a0ec-4dc3-b01b-caf9e8b53a9c",
   "metadata": {},
   "source": [
    "**11)  Code logistic regression using Python. DO NOT use a \"package\" for LR but rather, code it by hand. Yes you can use simple packages like Numpy, etc. You cannot use a Logistic regression package. \n",
    "You must write code that will:\n",
    "(a) Read in any .csv labeled dataset where the Label is called \"LABEL\". \n",
    "(b) Your code should create \"y\" (the label) as a numpy array of 0 and 1. So, if the labels are originally something like POS and NEG, your code will need to determine this, and then update all POS to 1 and all NEG to 0. Your code should be able to do this for any two label options. \n",
    "(c) Your code will also create X which is the entire dataset (without the labels) as a numpy array. \n",
    "(d) Your code will initialize w and b and a learning rate. \n",
    "(e) Your code will need to contain a function for Sigmoid and for z, etc. \n",
    "(f) Your code will then need to perform gradient descent to optimize (reduce) LCE. (Use the average BCE)\n",
    "(g) Be sure that your code can run iteratively for as many epochs as you wish. \n",
    "(h) Show a final confusion matrix (see example below) AND show a graph of how the LCE reduces as epochs iterate (see example below)**"
   ]
  },
  {
   "attachments": {
    "6d5d2dc9-50bd-4e5a-9289-1b46e58a070d.png": {
     "image/png": "[encoded data removed]"
    }
   },
   "cell_type": "markdown",
   "id": "a5d40936-d2f8-43ce-a4bd-aecc90870c44",
   "metadata": {},
   "source": [
    "![image.png](attachment:6d5d2dc9-50bd-4e5a-9289-1b46e58a070d.png)"
   ]
  },
  {
   "attachments": {
    "3d41b3e9-2e21-430f-b34e-9e2082c9a35c.png": {
     "image/png": "[encoded data removed]"
    }
   },
   "cell_type": "markdown",
   "id": "02640e17-f3c5-4130-bcd0-7ad33de78c0d",
   "metadata": {},
   "source": [
    "![image.png](attachment:3d41b3e9-2e21-430f-b34e-9e2082c9a35c.png)"
   ]
  },
  {
   "cell_type": "markdown",
   "id": "9b06a1e2-4140-494b-b2f3-94ce22474994",
   "metadata": {},
   "source": [
    "Github:[GIT](https://github.com/harshith-nikhil/nna1)"
   ]
  }
 ],
 "metadata": {
  "kernelspec": {
   "display_name": "Python 3 (ipykernel)",
   "language": "python",
   "name": "python3"
  },
  "language_info": {
   "codemirror_mode": {
    "name": "ipython",
    "version": 3
   },
   "file_extension": ".py",
   "mimetype": "text/x-python",
   "name": "python",
   "nbconvert_exporter": "python",
   "pygments_lexer": "ipython3",
   "version": "3.9.6"
  }
 },
 "nbformat": 4,
 "nbformat_minor": 5
}
